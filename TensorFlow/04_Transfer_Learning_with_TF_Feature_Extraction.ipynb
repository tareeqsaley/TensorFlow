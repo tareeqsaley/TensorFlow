{
  "nbformat": 4,
  "nbformat_minor": 0,
  "metadata": {
    "colab": {
      "name": "04_Transfer Learning with TF - Feature Extraction.ipynb",
      "provenance": []
    },
    "kernelspec": {
      "name": "python3",
      "display_name": "Python 3"
    },
    "language_info": {
      "name": "python"
    },
    "accelerator": "GPU",
    "gpuClass": "standard"
  },
  "cells": [
    {
      "cell_type": "markdown",
      "source": [
        "From what we've built so far, there is plenty of room for improvement.\n",
        "\n",
        "We could go down the route of trying different configurations, adding layers, changing the learning rate, adjusting neurons per layer etc but that will be very time consuiming. What about **transfer learning?** We're yet to try that out. It\n",
        "is the concept of taking patterns (also called weights) that another model has learned and applying it to our model.\n",
        "\n",
        "The main benefits of using this approach are:\n",
        "1. Can leverage existing neural network arcitectures proven to work on problems similar to our own\n",
        "2. Can leverage a working neural network architecture that has already learnt patterns on similar data to our own\n",
        "\n",
        "Doing this leads to great results with less data."
      ],
      "metadata": {
        "id": "WfNpqWzawMFG"
      }
    },
    {
      "cell_type": "code",
      "source": [
        "#Are we using a GPU?\n",
        "\n",
        "!nvidia-smi"
      ],
      "metadata": {
        "colab": {
          "base_uri": "https://localhost:8080/"
        },
        "id": "HS9TiJN-yRJt",
        "outputId": "18c7a861-3738-483f-edd2-2619cc4d0093"
      },
      "execution_count": 26,
      "outputs": [
        {
          "output_type": "stream",
          "name": "stdout",
          "text": [
            "Fri Jun 17 11:03:11 2022       \n",
            "+-----------------------------------------------------------------------------+\n",
            "| NVIDIA-SMI 460.32.03    Driver Version: 460.32.03    CUDA Version: 11.2     |\n",
            "|-------------------------------+----------------------+----------------------+\n",
            "| GPU  Name        Persistence-M| Bus-Id        Disp.A | Volatile Uncorr. ECC |\n",
            "| Fan  Temp  Perf  Pwr:Usage/Cap|         Memory-Usage | GPU-Util  Compute M. |\n",
            "|                               |                      |               MIG M. |\n",
            "|===============================+======================+======================|\n",
            "|   0  Tesla T4            Off  | 00000000:00:04.0 Off |                    0 |\n",
            "| N/A   69C    P0    31W /  70W |    390MiB / 15109MiB |      0%      Default |\n",
            "|                               |                      |                  N/A |\n",
            "+-------------------------------+----------------------+----------------------+\n",
            "                                                                               \n",
            "+-----------------------------------------------------------------------------+\n",
            "| Processes:                                                                  |\n",
            "|  GPU   GI   CI        PID   Type   Process name                  GPU Memory |\n",
            "|        ID   ID                                                   Usage      |\n",
            "|=============================================================================|\n",
            "+-----------------------------------------------------------------------------+\n"
          ]
        }
      ]
    },
    {
      "cell_type": "markdown",
      "source": [
        "# Transfer Learning with TF Hub: Getting great results with 10% of the data\n",
        "\n",
        "Let's take 10% of the training data from the 10_food_classes dataset and use it to train a food image classifier on"
      ],
      "metadata": {
        "id": "wO_sTsZGyWTs"
      }
    },
    {
      "cell_type": "markdown",
      "source": [
        "## Downloading and Becoming One with the Data"
      ],
      "metadata": {
        "id": "PljvCFqrzQZS"
      }
    },
    {
      "cell_type": "code",
      "source": [
        "# Get data (10% of labels)\n",
        "import zipfile\n",
        "\n",
        "# Download data\n",
        "!wget https://storage.googleapis.com/ztm_tf_course/food_vision/10_food_classes_10_percent.zip\n",
        "\n",
        "# unzip the downloaded file\n",
        "zip_ref = zipfile.ZipFile(\"10_food_classes_10_percent.zip\", \"r\")\n",
        "zip_ref.extractall()\n",
        "zip_ref.close()"
      ],
      "metadata": {
        "colab": {
          "base_uri": "https://localhost:8080/"
        },
        "id": "Cpdv0XI5zZMd",
        "outputId": "bf071b9d-b185-4121-b261-f2af08909245"
      },
      "execution_count": 27,
      "outputs": [
        {
          "output_type": "stream",
          "name": "stdout",
          "text": [
            "--2022-06-17 11:03:12--  https://storage.googleapis.com/ztm_tf_course/food_vision/10_food_classes_10_percent.zip\n",
            "Resolving storage.googleapis.com (storage.googleapis.com)... 142.250.99.128, 173.194.202.128, 173.194.203.128, ...\n",
            "Connecting to storage.googleapis.com (storage.googleapis.com)|142.250.99.128|:443... connected.\n",
            "HTTP request sent, awaiting response... 200 OK\n",
            "Length: 168546183 (161M) [application/zip]\n",
            "Saving to: ‘10_food_classes_10_percent.zip.1’\n",
            "\n",
            "10_food_classes_10_ 100%[===================>] 160.74M   266MB/s    in 0.6s    \n",
            "\n",
            "2022-06-17 11:03:13 (266 MB/s) - ‘10_food_classes_10_percent.zip.1’ saved [168546183/168546183]\n",
            "\n"
          ]
        }
      ]
    },
    {
      "cell_type": "code",
      "source": [
        "import os\n",
        "\n",
        "for dirpath, dirnames, filenames in os.walk(\"10_food_classes_10_percent\"):\n",
        "  print(f\"There are {len(dirnames)} dieectories and {len(filenames)} images in '{dirpath}'.\")\n"
      ],
      "metadata": {
        "colab": {
          "base_uri": "https://localhost:8080/"
        },
        "id": "pkELa7GI0Jb5",
        "outputId": "647468ca-5daf-4e71-b536-cbee83371e89"
      },
      "execution_count": 28,
      "outputs": [
        {
          "output_type": "stream",
          "name": "stdout",
          "text": [
            "There are 2 dieectories and 0 images in '10_food_classes_10_percent'.\n",
            "There are 10 dieectories and 0 images in '10_food_classes_10_percent/train'.\n",
            "There are 0 dieectories and 75 images in '10_food_classes_10_percent/train/chicken_wings'.\n",
            "There are 0 dieectories and 75 images in '10_food_classes_10_percent/train/grilled_salmon'.\n",
            "There are 0 dieectories and 75 images in '10_food_classes_10_percent/train/fried_rice'.\n",
            "There are 0 dieectories and 75 images in '10_food_classes_10_percent/train/ramen'.\n",
            "There are 0 dieectories and 75 images in '10_food_classes_10_percent/train/steak'.\n",
            "There are 0 dieectories and 75 images in '10_food_classes_10_percent/train/chicken_curry'.\n",
            "There are 0 dieectories and 75 images in '10_food_classes_10_percent/train/hamburger'.\n",
            "There are 0 dieectories and 75 images in '10_food_classes_10_percent/train/ice_cream'.\n",
            "There are 0 dieectories and 75 images in '10_food_classes_10_percent/train/pizza'.\n",
            "There are 0 dieectories and 75 images in '10_food_classes_10_percent/train/sushi'.\n",
            "There are 10 dieectories and 0 images in '10_food_classes_10_percent/test'.\n",
            "There are 0 dieectories and 250 images in '10_food_classes_10_percent/test/chicken_wings'.\n",
            "There are 0 dieectories and 250 images in '10_food_classes_10_percent/test/grilled_salmon'.\n",
            "There are 0 dieectories and 250 images in '10_food_classes_10_percent/test/fried_rice'.\n",
            "There are 0 dieectories and 250 images in '10_food_classes_10_percent/test/ramen'.\n",
            "There are 0 dieectories and 250 images in '10_food_classes_10_percent/test/steak'.\n",
            "There are 0 dieectories and 250 images in '10_food_classes_10_percent/test/chicken_curry'.\n",
            "There are 0 dieectories and 250 images in '10_food_classes_10_percent/test/hamburger'.\n",
            "There are 0 dieectories and 250 images in '10_food_classes_10_percent/test/ice_cream'.\n",
            "There are 0 dieectories and 250 images in '10_food_classes_10_percent/test/pizza'.\n",
            "There are 0 dieectories and 250 images in '10_food_classes_10_percent/test/sushi'.\n"
          ]
        }
      ]
    },
    {
      "cell_type": "markdown",
      "source": [
        "We're training on 10% of the original 750 images but evaluating our model on the same amount of test data"
      ],
      "metadata": {
        "id": "G5vL0bmw1S9a"
      }
    },
    {
      "cell_type": "markdown",
      "source": [
        "## Creating data loaders (preparing the data)"
      ],
      "metadata": {
        "id": "84tQivYU1nAI"
      }
    },
    {
      "cell_type": "markdown",
      "source": [
        "Now we'll use `ImageDataGenerator` along with `flow_from_directory` method to load in our images"
      ],
      "metadata": {
        "id": "QBmbg1mL1rMe"
      }
    },
    {
      "cell_type": "code",
      "source": [
        "#setup data inputs\n",
        "from tensorflow.keras.preprocessing.image import ImageDataGenerator\n",
        "\n",
        "IMAGE_SHAPE = (224,224)\n",
        "BATCH_SIZE = 32\n",
        "\n",
        "train_dir = \"10_food_classes_10_percent/train/\"\n",
        "test_dir = \"10_food_classes_10_percent/test/\"\n",
        "\n",
        "train_datagen = ImageDataGenerator(rescale=1/255.)\n",
        "test_datagen = ImageDataGenerator(rescale=1/255.)\n",
        "\n",
        "print(\"Training images:\")\n",
        "train_data_10_percent = train_datagen.flow_from_directory(train_dir,\n",
        "                                                          target_size=IMAGE_SHAPE,\n",
        "                                                          batch_size= BATCH_SIZE,\n",
        "                                                          class_mode = \"categorical\")\n",
        "\n",
        "print(\"Testing images:\")\n",
        "test_data = train_datagen.flow_from_directory (test_dir,\n",
        "                                               target_size=IMAGE_SHAPE,\n",
        "                                               batch_size= BATCH_SIZE,\n",
        "                                               class_mode = \"categorical\")"
      ],
      "metadata": {
        "colab": {
          "base_uri": "https://localhost:8080/"
        },
        "id": "Y66LMaHG2Oi1",
        "outputId": "e792538d-8641-4fe9-8ba1-901f8f31d746"
      },
      "execution_count": 29,
      "outputs": [
        {
          "output_type": "stream",
          "name": "stdout",
          "text": [
            "Training images:\n",
            "Found 750 images belonging to 10 classes.\n",
            "Testing images:\n",
            "Found 2500 images belonging to 10 classes.\n"
          ]
        }
      ]
    },
    {
      "cell_type": "markdown",
      "source": [
        "## Setting Up Callbacks (Things to do whilst our model trains)\n",
        "\n",
        "some  **callbacks** include:\n",
        "* Experiment tracking with TensoBoard - log performance of multiple models then view and compare these in a visual way\n",
        "* Model checkpointing - Save model as i trains so you can stop training if need be and come back to continue where you left off\n",
        "* Early stopping - Leabe model to train an arbitary amount of time an dhave it stop automatically when it ceases to improve\n",
        "\n",
        "We'll start off bydoing a TensorBoard example since we're likely to run multiple experiments\n",
        "\n"
      ],
      "metadata": {
        "id": "XKT4p3lf7h85"
      }
    },
    {
      "cell_type": "code",
      "source": [
        "# Create tensorboard callback (functionized because we need to create a new one for each model)\n",
        "\n",
        "import datetime\n",
        "def create_tensorboard_callback(dir_name, experiment_name):\n",
        "  log_dir = dir_name + \"/\" + experiment_name + \"/\" + datetime.datetime.now().strftime(\"%Y%m%d-%H%M%S\")\n",
        "  tensorboard_callback = tf.keras.callbacks.TensorBoard(\n",
        "      log_dir =log_dir\n",
        "  )\n",
        "  print(f\"Saving TensorBoard log files to: {log_dir}\")\n",
        "  return tensorboard_callback"
      ],
      "metadata": {
        "id": "oTtRiArG86xu"
      },
      "execution_count": 30,
      "outputs": []
    },
    {
      "cell_type": "markdown",
      "source": [
        "In our case, our function saves a model's performance logs to a directory named [dir_name]/[experiment_name]/[current_timestamp]"
      ],
      "metadata": {
        "id": "jV5qb8Rt-FYG"
      }
    },
    {
      "cell_type": "markdown",
      "source": [
        "## Creating models using TF Hub\n",
        "\n",
        "Previously we've used TF to create our own models layer by layer from scratch.\n",
        "\n",
        "Now, we're going to do a similar process, except the majority of our model's layers are going to come from TF Hub. We'll look at two models specifically:\n",
        "1. ResNetV2 - SOTA vision model from 2016\n",
        "2. EfficientNet - SOTA vision architecture from 2019\n",
        "\n",
        "Since we're working with images, our targets are the models which perform best with ImageNet.\n",
        "\n",
        "You'll probably find not all of the model architectures listed on paperswithcode appear on TensorFlow Hub. And this is okay, we can still use what's available.\n",
        "\n",
        "To find our models, let's narrow down our search using the Architecture tab.\n",
        "\n",
        "1. Select the Architecture tab on TensorFlow Hub and you'll see a dropdown menu of architecture names appear.\n",
        "\n",
        "\n",
        ">> The rule of thumb here is generally, names with larger numbers means better performing models. For example, EfficientNetB4 performs better than EfficientNetB0.\n",
        "\n",
        ">> However, the tradeoff with larger numbers can mean they take longer to compute.\n",
        "\n",
        "2. Select EfficientNetB0 \n",
        "\n",
        "3. Clicking the one titled \"efficientnet/b0/feature-vector\" brings us to a page with a button that says \"Copy URL\". That URL is what we can use to harness the power of EfficientNetB0.\n",
        "> Copying the URL should give you something like this: https://tfhub.dev/tensorflow/efficientnet/b0/feature-vector/1\n",
        "> \n",
        "🤔Question: I thought we were doing image classification, why do we choose feature vector and not classification?\n",
        "\n",
        ">Great observation. This is where the differnet types of transfer learning come into play, as is, feature extraction and fine-tuning.\n",
        "\n",
        "\n"
      ],
      "metadata": {
        "id": "KJ58SjMn-kTz"
      }
    },
    {
      "cell_type": "markdown",
      "source": [
        "1. **\"As is\" transfer learning** is when you take a pretrained model as it is and apply it to your task without any changes.\n",
        "\n",
        ">* For example, many computer vision models are pretrained on the ImageNet dataset which contains 1000 different classes of images. This means passing a single image to this model will produce 1000 different prediction probability values (1 for each class).\n",
        "\n",
        ">>* This is helpful if you have 1000 classes of image you'd like to classify and they're all the same as the ImageNet classes, however, it's not helpful if you want to classify only a small subset of classes (such as 10 different kinds of food). Model's with \"/classification\" in their name on TensorFlow Hub provide this kind of functionality.\n",
        "\n",
        "2. **Feature extraction transfer learning** is when you take the underlying patterns (also called weights) a pretrained model has learned and adjust its outputs to be more suited to your problem.\n",
        "\n",
        ">* For example, say the pretrained model you were using had 236 different layers (EfficientNetB0 has 236 layers), but the top layer outputs 1000 classes because it was pretrained on ImageNet. To adjust this to your own problem, you might remove the original activation layer and replace it with your own but with the right number of output classes. The important part here is that only the top few layers become trainable, the rest remain frozen.\n",
        "\n",
        ">>* This way all the underlying patterns remain in the rest of the layers and you can utilise them for your own problem. This kind of transfer learning is very helpful when your data is similar to the data a model has been pretrained on.\n",
        "\n",
        "3. **Fine-tuning transfer learning** is when you take the underlying patterns (also called weights) of a pretrained model and adjust (fine-tune) them to your own problem.\n",
        "\n",
        ">* This usually means training some, many or all of the layers in the pretrained model. This is useful when you've got a large dataset (e.g. 100+ images per class) where your data is slightly different to the data the original model was trained on.\n",
        "\n",
        "A common workflow is to \"freeze\" all of the learned patterns in the bottom layers of a pretrained model so they're untrainable. And then train the top 2-3 layers of so the pretrained model can adjust its outputs to your custom data (feature extraction).\n",
        "\n",
        "After you've trained the top 2-3 layers, you can then gradually \"unfreeze\" more and more layers and run the training process on your own data to further fine-tune the pretrained model.\n",
        "\n",
        "🤔 **Question:** Why train only the top 2-3 layers in feature extraction?\n",
        "\n",
        "The lower a layer is in a computer vision model as in, the closer it is to the input layer, the larger the features it learn. For example, a bottom layer in a computer vision model to identify images of cats or dogs might learn the outline of legs, where as, layers closer to the output might learn the shape of teeth. Often, you'll want the larger features (learned patterns are also called features) to remain, since these are similar for both animals, where as, the differences remain in the more fine-grained features."
      ],
      "metadata": {
        "id": "uFGW9LTQCjqn"
      }
    },
    {
      "cell_type": "code",
      "source": [
        "import tensorflow as tf\n",
        "import tensorflow_hub as hub\n",
        "from tensorflow.keras import layers"
      ],
      "metadata": {
        "id": "zUqlW4cNDuec"
      },
      "execution_count": 31,
      "outputs": []
    },
    {
      "cell_type": "code",
      "source": [
        "# resnet 50 V2 feature vector\n",
        "resnet_url = \"https://tfhub.dev/google/imagenet/resnet_v2_50/feature_vector/4\"\n",
        "\n",
        "# Original: EffiecientNetB0 feature vector (version 1) - note version 2  is also available and can be tried out as well\n",
        "efficientnet_url = \"https://tfhub.dev/tensorflow/efficientnet/b0/feature-vector/1\""
      ],
      "metadata": {
        "id": "0A_BKUiEDtot"
      },
      "execution_count": 32,
      "outputs": []
    },
    {
      "cell_type": "markdown",
      "source": [
        "Since we're going to be comparing two models, to ourselves code, we'll write a function `**create_model**` that will take a model's TF Hub URL, instantiate a Keras Sequential model with the appropriate number of output layers and return the model."
      ],
      "metadata": {
        "id": "pzzhrPCbDrBf"
      }
    },
    {
      "cell_type": "code",
      "source": [
        "def create_model(model_url, num_classes=10):\n",
        "\n",
        "  \"\"\" Takes a TF Hub URL and creates a Keras Sequential model with it\n",
        "\n",
        "  Args:\n",
        "    model_url (str): A TF Hub feature extraction URL\n",
        "    num_classes (int): Number of output neurons in output layer should be equal to number of classes, default 10.\n",
        "\n",
        "  Returns: \n",
        "    An uncompiled Keras Sequential model with model_url as feature extractor layer and Dense output layer with num_classes outputs\n",
        "  \"\"\"\n",
        "\n",
        "  # Download the pretrained model and save it as a keras layer\n",
        "  feature_extractor_layer = hub.KerasLayer(model_url,\n",
        "                                          trainable = False,\n",
        "                                          name= 'feature_extraction_layer',\n",
        "                                          input_shape = IMAGE_SHAPE+(3,))\n",
        "\n",
        "  # Create our own model\n",
        "  model = tf.keras.Sequential([\n",
        "    feature_extractor_layer, #use feature extractor layer as base\n",
        "    layers.Dense(num_classes, activation = 'softmax', name = 'output_layer') #create an output layer\n",
        "  ])\n",
        "\n",
        "  return model\n",
        "                                         "
      ],
      "metadata": {
        "id": "xkdge1fXF1IT"
      },
      "execution_count": 33,
      "outputs": []
    },
    {
      "cell_type": "markdown",
      "source": [
        "We'll now use this function to create our first model using the ResNetV250 as the feature extraction layer and then, onc the model is instantiated we'll compile as usual"
      ],
      "metadata": {
        "id": "u4TpkkwQHF9o"
      }
    },
    {
      "cell_type": "code",
      "source": [
        "# Create the model\n",
        "resnet_model = create_model(resnet_url, num_classes = train_data_10_percent.num_classes)\n",
        "\n",
        "#compile\n",
        "resnet_model.compile(loss = 'categorical_crossentropy',\n",
        "                     optimizer = tf.keras.optimizers.Adam(),\n",
        "                     metrics = ['accuracy'])"
      ],
      "metadata": {
        "id": "qGxrtZSLJA5G"
      },
      "execution_count": 34,
      "outputs": []
    },
    {
      "cell_type": "markdown",
      "source": [
        "We'll now fit the model and train for 5 epochs, we'll also introduce the `callbacks` parameter and pass it through the `create_tensorboard_callback` function that we created earlier. \n",
        "\n"
      ],
      "metadata": {
        "id": "yxiLyjPOJgSl"
      }
    },
    {
      "cell_type": "code",
      "source": [
        "# Fit the model\n",
        "resnet_history = resnet_model.fit(train_data_10_percent,\n",
        "                                  epochs = 5,\n",
        "                                  steps_per_epoch = len(train_data_10_percent),\n",
        "                                  validation_data = test_data,\n",
        "                                  validation_steps = len(test_data),\n",
        "                                  # Add TensorBoard callback to model (callbacks parameter takes a list)\n",
        "                                  callbacks = [create_tensorboard_callback(dir_name = \"tensorflow_hub\", #save experiment logs here\n",
        "                                                                           experiment_name = \"resnet50V2\")]) #name of log files\n",
        "                                "
      ],
      "metadata": {
        "colab": {
          "base_uri": "https://localhost:8080/"
        },
        "id": "-zI2isRLVrn3",
        "outputId": "a5ff3e2b-0598-40f6-ec4b-7e2216ab5448"
      },
      "execution_count": 36,
      "outputs": [
        {
          "output_type": "stream",
          "name": "stdout",
          "text": [
            "Saving TensorBoard log files to: tensorflow_hub/resnet50V2/20220617-110939\n",
            "Epoch 1/5\n",
            "24/24 [==============================] - 40s 1s/step - loss: 1.9675 - accuracy: 0.3560 - val_loss: 1.1801 - val_accuracy: 0.6508\n",
            "Epoch 2/5\n",
            "24/24 [==============================] - 16s 701ms/step - loss: 0.9156 - accuracy: 0.7373 - val_loss: 0.8341 - val_accuracy: 0.7408\n",
            "Epoch 3/5\n",
            "24/24 [==============================] - 16s 688ms/step - loss: 0.6159 - accuracy: 0.8320 - val_loss: 0.7386 - val_accuracy: 0.7684\n",
            "Epoch 4/5\n",
            "24/24 [==============================] - 16s 698ms/step - loss: 0.4809 - accuracy: 0.8760 - val_loss: 0.6906 - val_accuracy: 0.7768\n",
            "Epoch 5/5\n",
            "24/24 [==============================] - 17s 720ms/step - loss: 0.3769 - accuracy: 0.9173 - val_loss: 0.6610 - val_accuracy: 0.7924\n"
          ]
        }
      ]
    },
    {
      "cell_type": "markdown",
      "source": [
        "Wow! With only 5 epochs we've managed to reach 92% accuracy on training data and 80% accuracy on testing data, far better than any of the models we've built so far and **with only 10 images!** Let's plot our results."
      ],
      "metadata": {
        "id": "Khkv52LTWprs"
      }
    },
    {
      "cell_type": "code",
      "source": [
        "import matplotlib.pyplot as plt\n",
        "# Plot the validation and training data separately\n",
        "def plot_loss_curves(history):\n",
        "  \"\"\"\n",
        "  Returns separate loss curves for training and validation metrics.\n",
        "  \"\"\" \n",
        "  loss = history.history['loss']\n",
        "  val_loss = history.history['val_loss']\n",
        "\n",
        "  accuracy = history.history['accuracy']\n",
        "  val_accuracy = history.history['val_accuracy']\n",
        "\n",
        "  epochs = range(len(history.history['loss']))\n",
        "\n",
        "  # Plot loss\n",
        "  plt.plot(epochs, loss, label='training_loss')\n",
        "  plt.plot(epochs, val_loss, label='val_loss')\n",
        "  plt.title('Loss')\n",
        "  plt.xlabel('Epochs')\n",
        "  plt.legend()\n",
        "\n",
        "  # Plot accuracy\n",
        "  plt.figure()\n",
        "  plt.plot(epochs, accuracy, label='training_accuracy')\n",
        "  plt.plot(epochs, val_accuracy, label='val_accuracy')\n",
        "  plt.title('Accuracy')\n",
        "  plt.xlabel('Epochs')\n",
        "  plt.legend();\n"
      ],
      "metadata": {
        "id": "bo0lspEWdVyu"
      },
      "execution_count": 37,
      "outputs": []
    },
    {
      "cell_type": "code",
      "source": [
        "plot_loss_curves(resnet_history)"
      ],
      "metadata": {
        "colab": {
          "base_uri": "https://localhost:8080/",
          "height": 573
        },
        "id": "3SZnqwkUdvNG",
        "outputId": "2adc5713-4680-4b2c-c70e-7caa2f9f4d21"
      },
      "execution_count": 38,
      "outputs": [
        {
          "output_type": "display_data",
          "data": {
            "text/plain": [
              "<Figure size 432x288 with 1 Axes>"
            ],
            "image/png": "[encoded data removed]"
          },
          "metadata": {
            "needs_background": "light"
          }
        },
        {
          "output_type": "display_data",
          "data": {
            "text/plain": [
              "<Figure size 432x288 with 1 Axes>"
            ],
            "image/png": "[encoded data removed]"
          },
          "metadata": {
            "needs_background": "light"
          }
        }
      ]
    },
    {
      "cell_type": "code",
      "source": [
        "resnet_model.summary()"
      ],
      "metadata": {
        "colab": {
          "base_uri": "https://localhost:8080/"
        },
        "id": "KoYHkbptd4xz",
        "outputId": "a51459d4-1784-40e6-af53-367d096269c3"
      },
      "execution_count": 39,
      "outputs": [
        {
          "output_type": "stream",
          "name": "stdout",
          "text": [
            "Model: \"sequential_1\"\n",
            "_________________________________________________________________\n",
            " Layer (type)                Output Shape              Param #   \n",
            "=================================================================\n",
            " feature_extraction_layer (K  (None, 2048)             23564800  \n",
            " erasLayer)                                                      \n",
            "                                                                 \n",
            " output_layer (Dense)        (None, 10)                20490     \n",
            "                                                                 \n",
            "=================================================================\n",
            "Total params: 23,585,290\n",
            "Trainable params: 20,490\n",
            "Non-trainable params: 23,564,800\n",
            "_________________________________________________________________\n"
          ]
        }
      ]
    },
    {
      "cell_type": "markdown",
      "source": [
        "This shows the power of tensorflow_hub, the feature extraction layer has 23 564 800 parameters which are prelearned patterns the model has already learned on the ImageNet dataset. Since trainable=False, these patterns remain frozen during training.\n",
        "\n",
        "This means during training the model updates the 20 490 parameters in the output layer to suit our dataset.\n",
        "\n",
        "Let's try the EfficientNetB0 model now."
      ],
      "metadata": {
        "id": "8LOJRlaCd-OU"
      }
    },
    {
      "cell_type": "code",
      "source": [
        "# Create the model\n",
        "efficientnet_model = create_model(efficientnet_url, num_classes = train_data_10_percent.num_classes)\n",
        "\n",
        "#compile\n",
        "efficientnet_model.compile(loss = 'categorical_crossentropy',\n",
        "                     optimizer = tf.keras.optimizers.Adam(),\n",
        "                     metrics = ['accuracy'])\n",
        "# Fit the model\n",
        "efficientnet_history = efficientnet_model.fit(train_data_10_percent,\n",
        "                                  epochs = 5,\n",
        "                                  steps_per_epoch = len(train_data_10_percent),\n",
        "                                  validation_data = test_data,\n",
        "                                  validation_steps = len(test_data),\n",
        "                                  # Add TensorBoard callback to model (callbacks parameter takes a list)\n",
        "                                  callbacks = [create_tensorboard_callback(dir_name = \"tensorflow_hub\", #save experiment logs here\n",
        "                                                                           experiment_name = \"efficientnetB0\")]) #name of log files\n"
      ],
      "metadata": {
        "colab": {
          "base_uri": "https://localhost:8080/"
        },
        "id": "oGXV1vqAeylI",
        "outputId": "36e78f3b-972b-4d6a-97a9-fb68c6f9921b"
      },
      "execution_count": 40,
      "outputs": [
        {
          "output_type": "stream",
          "name": "stdout",
          "text": [
            "Saving TensorBoard log files to: tensorflow_hub/efficientnetB0/20220617-114733\n",
            "Epoch 1/5\n",
            "24/24 [==============================] - 26s 740ms/step - loss: 1.8298 - accuracy: 0.4453 - val_loss: 1.2770 - val_accuracy: 0.7388\n",
            "Epoch 2/5\n",
            "24/24 [==============================] - 16s 672ms/step - loss: 1.0454 - accuracy: 0.7747 - val_loss: 0.8644 - val_accuracy: 0.8184\n",
            "Epoch 3/5\n",
            "24/24 [==============================] - 17s 735ms/step - loss: 0.7461 - accuracy: 0.8427 - val_loss: 0.6967 - val_accuracy: 0.8380\n",
            "Epoch 4/5\n",
            "24/24 [==============================] - 16s 671ms/step - loss: 0.6024 - accuracy: 0.8667 - val_loss: 0.6103 - val_accuracy: 0.8492\n",
            "Epoch 5/5\n",
            "24/24 [==============================] - 16s 669ms/step - loss: 0.5091 - accuracy: 0.8947 - val_loss: 0.5573 - val_accuracy: 0.8588\n"
          ]
        }
      ]
    },
    {
      "cell_type": "markdown",
      "source": [
        "EfficientNet performs even better than ResNet using only 10% of the training data!"
      ],
      "metadata": {
        "id": "0OS4lZTzfVhu"
      }
    },
    {
      "cell_type": "code",
      "source": [
        "plot_loss_curves(efficientnet_history)"
      ],
      "metadata": {
        "colab": {
          "base_uri": "https://localhost:8080/",
          "height": 573
        },
        "id": "9Jw8YZWuf99c",
        "outputId": "8ffcbd3b-e644-47e5-fdb8-af4986474709"
      },
      "execution_count": 43,
      "outputs": [
        {
          "output_type": "display_data",
          "data": {
            "text/plain": [
              "<Figure size 432x288 with 1 Axes>"
            ],
            "image/png": "[encoded data removed]"
          },
          "metadata": {
            "needs_background": "light"
          }
        },
        {
          "output_type": "display_data",
          "data": {
            "text/plain": [
              "<Figure size 432x288 with 1 Axes>"
            ],
            "image/png": "[encoded data removed]"
          },
          "metadata": {
            "needs_background": "light"
          }
        }
      ]
    },
    {
      "cell_type": "markdown",
      "source": [
        "From the llooks of it, training our data for longer would produce even better results, let's confirm.."
      ],
      "metadata": {
        "id": "FBNomqFVgFKl"
      }
    },
    {
      "cell_type": "code",
      "source": [
        "# Create the model\n",
        "efficientnet_model = create_model(efficientnet_url, num_classes = train_data_10_percent.num_classes)\n",
        "\n",
        "#compile\n",
        "efficientnet_model.compile(loss = 'categorical_crossentropy',\n",
        "                     optimizer = tf.keras.optimizers.Adam(),\n",
        "                     metrics = ['accuracy'])\n",
        "# Fit the model\n",
        "efficientnet_history = efficientnet_model.fit(train_data_10_percent,\n",
        "                                  epochs = 10,\n",
        "                                  steps_per_epoch = len(train_data_10_percent),\n",
        "                                  validation_data = test_data,\n",
        "                                  validation_steps = len(test_data),\n",
        "                                  # Add TensorBoard callback to model (callbacks parameter takes a list)\n",
        "                                  callbacks = [create_tensorboard_callback(dir_name = \"tensorflow_hub\", #save experiment logs here\n",
        "                                                                           experiment_name = \"efficientnetB0\")]) #name of log files"
      ],
      "metadata": {
        "colab": {
          "base_uri": "https://localhost:8080/"
        },
        "id": "MYLe-VrKgURb",
        "outputId": "66b91c6c-c890-429f-d3fa-128cacfc6d97"
      },
      "execution_count": 45,
      "outputs": [
        {
          "output_type": "stream",
          "name": "stdout",
          "text": [
            "Saving TensorBoard log files to: tensorflow_hub/efficientnetB0/20220617-115205\n",
            "Epoch 1/10\n",
            "24/24 [==============================] - 25s 710ms/step - loss: 1.8455 - accuracy: 0.4493 - val_loss: 1.3146 - val_accuracy: 0.7284\n",
            "Epoch 2/10\n",
            "24/24 [==============================] - 16s 667ms/step - loss: 1.0551 - accuracy: 0.7933 - val_loss: 0.8665 - val_accuracy: 0.8200\n",
            "Epoch 3/10\n",
            "24/24 [==============================] - 16s 690ms/step - loss: 0.7448 - accuracy: 0.8453 - val_loss: 0.6951 - val_accuracy: 0.8460\n",
            "Epoch 4/10\n",
            "24/24 [==============================] - 16s 681ms/step - loss: 0.5980 - accuracy: 0.8827 - val_loss: 0.6055 - val_accuracy: 0.8560\n",
            "Epoch 5/10\n",
            "24/24 [==============================] - 15s 661ms/step - loss: 0.5072 - accuracy: 0.8960 - val_loss: 0.5577 - val_accuracy: 0.8600\n",
            "Epoch 6/10\n",
            "24/24 [==============================] - 17s 745ms/step - loss: 0.4402 - accuracy: 0.9173 - val_loss: 0.5194 - val_accuracy: 0.8664\n",
            "Epoch 7/10\n",
            "24/24 [==============================] - 17s 743ms/step - loss: 0.3858 - accuracy: 0.9253 - val_loss: 0.4941 - val_accuracy: 0.8680\n",
            "Epoch 8/10\n",
            "24/24 [==============================] - 15s 656ms/step - loss: 0.3431 - accuracy: 0.9373 - val_loss: 0.4750 - val_accuracy: 0.8692\n",
            "Epoch 9/10\n",
            "24/24 [==============================] - 15s 662ms/step - loss: 0.3096 - accuracy: 0.9440 - val_loss: 0.4583 - val_accuracy: 0.8716\n",
            "Epoch 10/10\n",
            "24/24 [==============================] - 16s 667ms/step - loss: 0.2785 - accuracy: 0.9560 - val_loss: 0.4457 - val_accuracy: 0.8736\n"
          ]
        }
      ]
    },
    {
      "cell_type": "code",
      "source": [
        "efficientnet_model.summary()"
      ],
      "metadata": {
        "colab": {
          "base_uri": "https://localhost:8080/"
        },
        "id": "Btd9q6Q6gXoC",
        "outputId": "db0cc3a0-dbf4-450c-c17a-ddc053cf0365"
      },
      "execution_count": 46,
      "outputs": [
        {
          "output_type": "stream",
          "name": "stdout",
          "text": [
            "Model: \"sequential_3\"\n",
            "_________________________________________________________________\n",
            " Layer (type)                Output Shape              Param #   \n",
            "=================================================================\n",
            " feature_extraction_layer (K  (None, 1280)             4049564   \n",
            " erasLayer)                                                      \n",
            "                                                                 \n",
            " output_layer (Dense)        (None, 10)                12810     \n",
            "                                                                 \n",
            "=================================================================\n",
            "Total params: 4,062,374\n",
            "Trainable params: 12,810\n",
            "Non-trainable params: 4,049,564\n",
            "_________________________________________________________________\n"
          ]
        }
      ]
    },
    {
      "cell_type": "markdown",
      "source": [
        "Notice how EfficientNet has over four times less parameters than the ResNet extraction layer. "
      ],
      "metadata": {
        "id": "nO_Sh-iSg3A-"
      }
    },
    {
      "cell_type": "markdown",
      "source": [
        "## Comparing Models Using TensorBoard\n",
        "\n",
        "It's easy enough to compare two models against eachother by scrolling up and reading their accuracies but what if we had more than two models?\n",
        "\n",
        "That's where TensorBoard and our TensorBoard callback that we've set up comes in. All of our model's training logs have been saved automatically. To visualize them, we can upload the results to TensorBoard.dev"
      ],
      "metadata": {
        "id": "dAlKZrl3hUWc"
      }
    },
    {
      "cell_type": "markdown",
      "source": [
        "### Uploading experiments to TensorBoard\n",
        "\n",
        "To upload a series of TensorFlow logs to TensorBoard, we can use the following command:\n",
        "\n",
        "Upload TensorBoard dev records\n",
        "\n",
        "`**!tensorboard dev upload --logdir ./tensorflow_hub/ \\\n",
        "  --name \"EfficientNetB0 vs. ResNet50V2\" \\ \n",
        "  --description \"Comparing two different TF Hub feature extraction models architectures using 10% of training images\" \\\n",
        "  --one_shot **`\n",
        "\n",
        "Where:\n",
        "\n",
        " - `logdir` is the target upload directory\n",
        " - `name` is the name of the experiment\n",
        " - `description` is a brief description of the experiment\n",
        " - `one_shot` exits the TensorBoard uploader once uploading is finished\n",
        "\n",
        "Running the tensorboard dev upload command will first ask you to authorize the upload to TensorBoard.dev. After you've authorized the upload, your log files will be uploaded"
      ],
      "metadata": {
        "id": "xdT-99Mhh-oA"
      }
    },
    {
      "cell_type": "code",
      "source": [
        "# Upload TensorBoard dev records\n",
        "!tensorboard dev upload --logdir ./tensorflow_hub/ \\\n",
        "  --name \"EfficientNetB0 vs. ResNet50V2\" \\\n",
        "  --description \"Comparing two different TF Hub feature extraction models architectures using 10% of training images\" \\\n",
        "  --one_shot"
      ],
      "metadata": {
        "colab": {
          "base_uri": "https://localhost:8080/"
        },
        "id": "TD-qWIkiitNh",
        "outputId": "f1081f6b-572e-4ce2-9f0e-e9baa6441619"
      },
      "execution_count": 48,
      "outputs": [
        {
          "output_type": "stream",
          "name": "stdout",
          "text": [
            "\n",
            "***** TensorBoard Uploader *****\n",
            "\n",
            "This will upload your TensorBoard logs to https://tensorboard.dev/ from\n",
            "the following directory:\n",
            "\n",
            "./tensorflow_hub/\n",
            "\n",
            "This TensorBoard will be visible to everyone. Do not upload sensitive\n",
            "data.\n",
            "\n",
            "Your use of this service is subject to Google's Terms of Service\n",
            "<https://policies.google.com/terms> and Privacy Policy\n",
            "<https://policies.google.com/privacy>, and TensorBoard.dev's Terms of Service\n",
            "<https://tensorboard.dev/policy/terms/>.\n",
            "\n",
            "This notice will not be shown again while you are logged into the uploader.\n",
            "To log out, run `tensorboard dev auth revoke`.\n",
            "\n",
            "Continue? (yes/NO) yes\n",
            "\n",
            "Please visit this URL to authorize this application: https://accounts.google.com/o/oauth2/auth?response_type=code&client_id=373649185512-8v619h5kft38l4456nm2dj4ubeqsrvh6.apps.googleusercontent.com&redirect_uri=urn%3Aietf%3Awg%3Aoauth%3A2.0%3Aoob&scope=openid+https%3A%2F%2Fwww.googleapis.com%2Fauth%2Fuserinfo.email&state=LCIO90HwnEQNWEdY4YSVtfMRRJAtAo&prompt=consent&access_type=offline\n",
            "Enter the authorization code: 4/1AX4XfWjogqUmNysStdldL1BwqaXxYj7q7nF78Hk6MBIzyOaBb88oRAqdnG8\n",
            "\n",
            "\n",
            "New experiment created. View your TensorBoard at: https://tensorboard.dev/experiment/CPZPd4MhQsm4I4yrnZFvtQ/\n",
            "\n",
            "\u001b[1m[2022-06-17T12:05:37]\u001b[0m Started scanning logdir.\n",
            "\u001b[1m[2022-06-17T12:05:49]\u001b[0m Total uploaded: 120 scalars, 0 tensors, 3 binary objects (9.5 MB)\n",
            "\u001b[1m[2022-06-17T12:05:49]\u001b[0m Done scanning logdir.\n",
            "\n",
            "\n",
            "Done. View your TensorBoard at https://tensorboard.dev/experiment/CPZPd4MhQsm4I4yrnZFvtQ/\n"
          ]
        }
      ]
    },
    {
      "cell_type": "markdown",
      "source": [
        "### List Experiments you've saved to TensorBoard"
      ],
      "metadata": {
        "id": "C9yeB_vui5fB"
      }
    },
    {
      "cell_type": "code",
      "source": [
        "# Check out experiments\n",
        "!tensorboard dev list"
      ],
      "metadata": {
        "colab": {
          "base_uri": "https://localhost:8080/"
        },
        "id": "CTBjTVkvjs-w",
        "outputId": "73d2c577-6ca5-402f-f66d-320f5374eaf5"
      },
      "execution_count": 49,
      "outputs": [
        {
          "output_type": "stream",
          "name": "stdout",
          "text": [
            "https://tensorboard.dev/experiment/CPZPd4MhQsm4I4yrnZFvtQ/\n",
            "\tName                 EfficientNetB0 vs. ResNet50V2\n",
            "\tDescription          Comparing two different TF Hub feature extraction models architectures using 10% of training images\n",
            "\tId                   CPZPd4MhQsm4I4yrnZFvtQ\n",
            "\tCreated              2022-06-17 12:05:37 (1 minute ago)\n",
            "\tUpdated              2022-06-17 12:05:49 (1 minute ago)\n",
            "\tRuns                 6\n",
            "\tTags                 5\n",
            "\tScalars              120\n",
            "\tTensor bytes         0\n",
            "\tBinary object bytes  9999304\n",
            "Total: 1 experiment(s)\n"
          ]
        }
      ]
    },
    {
      "cell_type": "code",
      "source": [
        "#To delete an experiment type this:\n",
        "#!tensorboard dev delete --experiment_i[INSERT_EXPERIMENT_ID]"
      ],
      "metadata": {
        "id": "-ydrHOhgjyKl"
      },
      "execution_count": 50,
      "outputs": []
    },
    {
      "cell_type": "code",
      "source": [
        ""
      ],
      "metadata": {
        "id": "qftcjm7pkqoH"
      },
      "execution_count": null,
      "outputs": []
    }
  ]
}